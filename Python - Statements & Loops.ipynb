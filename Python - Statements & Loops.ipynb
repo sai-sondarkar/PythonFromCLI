{
 "cells": [
  {
   "cell_type": "markdown",
   "metadata": {},
   "source": [
    "# Usage of IF else"
   ]
  },
  {
   "cell_type": "code",
   "execution_count": 7,
   "metadata": {},
   "outputs": [
    {
     "name": "stdout",
     "output_type": "stream",
     "text": [
      "it is bigger than 2\n"
     ]
    }
   ],
   "source": [
    "num = 3\n",
    "\n",
    "if num<2 :\n",
    "    print(\"it is less than 2\")\n",
    "else :\n",
    "    print(\"it is bigger than 2\")"
   ]
  },
  {
   "cell_type": "code",
   "execution_count": 9,
   "metadata": {},
   "outputs": [
    {
     "name": "stdout",
     "output_type": "stream",
     "text": [
      "it is bigger than 2\n"
     ]
    }
   ],
   "source": [
    "num = 3\n",
    "\n",
    "if num<2 :\n",
    "    print(\"it is less than 2\")\n",
    "elif num==2:\n",
    "    print(\"it is equal to 2\")\n",
    "else :\n",
    "    print(\"it is bigger than 2\")"
   ]
  },
  {
   "cell_type": "code",
   "execution_count": 10,
   "metadata": {},
   "outputs": [],
   "source": [
    "_list = [1,2,3,4,5,6,7,8,9,10,11,12,13,14,15]"
   ]
  },
  {
   "cell_type": "code",
   "execution_count": 11,
   "metadata": {},
   "outputs": [
    {
     "name": "stdout",
     "output_type": "stream",
     "text": [
      "1\n",
      "2\n",
      "3\n",
      "4\n",
      "5\n",
      "6\n",
      "7\n",
      "8\n",
      "9\n",
      "10\n",
      "11\n",
      "12\n",
      "13\n",
      "14\n",
      "15\n"
     ]
    }
   ],
   "source": [
    "for item in _list:\n",
    "    print(item)"
   ]
  },
  {
   "cell_type": "code",
   "execution_count": 17,
   "metadata": {},
   "outputs": [
    {
     "name": "stdout",
     "output_type": "stream",
     "text": [
      "The number 1 is odd \n",
      "2\n",
      "The number 3 is odd \n",
      "4\n",
      "The number 5 is odd \n",
      "6\n",
      "The number 7 is odd \n",
      "8\n",
      "The number 9 is odd \n",
      "10\n",
      "The number 11 is odd \n",
      "12\n",
      "The number 13 is odd \n",
      "14\n",
      "The number 15 is odd \n"
     ]
    }
   ],
   "source": [
    "for item in _list:\n",
    "    if item%2==0:\n",
    "        print(item)\n",
    "    else:\n",
    "        print(f\"The number {item} is odd \")"
   ]
  },
  {
   "cell_type": "code",
   "execution_count": 19,
   "metadata": {},
   "outputs": [
    {
     "name": "stdout",
     "output_type": "stream",
     "text": [
      "The number 1 is odd \n",
      "2\n",
      "The number 3 is odd \n",
      "4\n",
      "The number 5 is odd \n",
      "6\n",
      "The number 7 is odd \n",
      "8\n",
      "The number 9 is odd \n"
     ]
    }
   ],
   "source": [
    "for item in range(1,10):\n",
    "    if item%2==0:\n",
    "        print(item)\n",
    "    else:\n",
    "        print(f\"The number {item} is odd \")"
   ]
  },
  {
   "cell_type": "markdown",
   "metadata": {},
   "source": [
    "# While Loops in Python "
   ]
  },
  {
   "cell_type": "code",
   "execution_count": 23,
   "metadata": {},
   "outputs": [
    {
     "name": "stdout",
     "output_type": "stream",
     "text": [
      "current value of f is 0\n",
      "current value of f is 1\n",
      "current value of f is 2\n",
      "current value of f is 3\n",
      "current value of f is 4\n"
     ]
    }
   ],
   "source": [
    "x=0; \n",
    "\n",
    "while x<5:\n",
    "    print(f\"current value of f is {x}\")\n",
    "    x+=1;"
   ]
  },
  {
   "cell_type": "code",
   "execution_count": null,
   "metadata": {},
   "outputs": [],
   "source": []
  }
 ],
 "metadata": {
  "kernelspec": {
   "display_name": "Python 3",
   "language": "python",
   "name": "python3"
  },
  "language_info": {
   "codemirror_mode": {
    "name": "ipython",
    "version": 3
   },
   "file_extension": ".py",
   "mimetype": "text/x-python",
   "name": "python",
   "nbconvert_exporter": "python",
   "pygments_lexer": "ipython3",
   "version": "3.7.2"
  }
 },
 "nbformat": 4,
 "nbformat_minor": 2
}
