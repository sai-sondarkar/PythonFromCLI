{
 "cells": [
  {
   "cell_type": "markdown",
   "metadata": {},
   "source": [
    "# Decorators"
   ]
  },
  {
   "cell_type": "markdown",
   "metadata": {},
   "source": [
    "adding extra functionality to the particular function with merging of other functions or wrapping the function with some line of code is called decorators "
   ]
  },
  {
   "cell_type": "code",
   "execution_count": 1,
   "metadata": {},
   "outputs": [],
   "source": [
    "def myFun():\n",
    "    return 1"
   ]
  },
  {
   "cell_type": "code",
   "execution_count": 3,
   "metadata": {},
   "outputs": [
    {
     "data": {
      "text/plain": [
       "1"
      ]
     },
     "execution_count": 3,
     "metadata": {},
     "output_type": "execute_result"
    }
   ],
   "source": [
    "myFun() #to execute the function we use () Brackets"
   ]
  },
  {
   "cell_type": "code",
   "execution_count": 17,
   "metadata": {},
   "outputs": [
    {
     "data": {
      "text/plain": [
       "<function __main__.myFun()>"
      ]
     },
     "execution_count": 17,
     "metadata": {},
     "output_type": "execute_result"
    }
   ],
   "source": [
    "myFun # to get the def. of function from the memory we use without () brackets"
   ]
  },
  {
   "cell_type": "markdown",
   "metadata": {},
   "source": [
    "# Assigning a Function to variable"
   ]
  },
  {
   "cell_type": "code",
   "execution_count": 5,
   "metadata": {},
   "outputs": [],
   "source": [
    "someFun = myFun"
   ]
  },
  {
   "cell_type": "code",
   "execution_count": 6,
   "metadata": {},
   "outputs": [
    {
     "data": {
      "text/plain": [
       "1"
      ]
     },
     "execution_count": 6,
     "metadata": {},
     "output_type": "execute_result"
    }
   ],
   "source": [
    "someFun()"
   ]
  },
  {
   "cell_type": "code",
   "execution_count": 7,
   "metadata": {},
   "outputs": [
    {
     "data": {
      "text/plain": [
       "<function __main__.myFun()>"
      ]
     },
     "execution_count": 7,
     "metadata": {},
     "output_type": "execute_result"
    }
   ],
   "source": [
    "someFun"
   ]
  },
  {
   "cell_type": "code",
   "execution_count": 2,
   "metadata": {},
   "outputs": [],
   "source": [
    "def anotherFun():\n",
    "    print(\"This is Another Function\")\n",
    "    \n",
    "    def aFun():\n",
    "        return \"\\t this is aFun\"\n",
    "        \n",
    "    def bFun():\n",
    "        return \"\\t this is bFun\"\n",
    "    \n",
    "    print(aFun())\n",
    "    print(bFun())\n",
    "    print(\"Now you are back to Another Function\")"
   ]
  },
  {
   "cell_type": "code",
   "execution_count": 4,
   "metadata": {},
   "outputs": [
    {
     "name": "stdout",
     "output_type": "stream",
     "text": [
      "This is Another Function\n",
      "\t this is aFun\n",
      "\t this is bFun\n",
      "Now you are back to Another Function\n"
     ]
    }
   ],
   "source": [
    "anotherFun()\n"
   ]
  },
  {
   "cell_type": "code",
   "execution_count": 11,
   "metadata": {},
   "outputs": [
    {
     "ename": "NameError",
     "evalue": "name 'aFun' is not defined",
     "output_type": "error",
     "traceback": [
      "\u001b[1;31m---------------------------------------------------------------------------\u001b[0m",
      "\u001b[1;31mNameError\u001b[0m                                 Traceback (most recent call last)",
      "\u001b[1;32m<ipython-input-11-106e604828af>\u001b[0m in \u001b[0;36m<module>\u001b[1;34m\u001b[0m\n\u001b[1;32m----> 1\u001b[1;33m \u001b[0maFun\u001b[0m\u001b[1;33m(\u001b[0m\u001b[1;33m)\u001b[0m \u001b[1;31m#Scope of Another Function\u001b[0m\u001b[1;33m\u001b[0m\u001b[1;33m\u001b[0m\u001b[0m\n\u001b[0m",
      "\u001b[1;31mNameError\u001b[0m: name 'aFun' is not defined"
     ]
    }
   ],
   "source": [
    "aFun() #Scope of Another Function"
   ]
  },
  {
   "cell_type": "markdown",
   "metadata": {},
   "source": [
    "# Returning a Function"
   ]
  },
  {
   "cell_type": "code",
   "execution_count": 18,
   "metadata": {},
   "outputs": [],
   "source": [
    "#this is your parent function\n",
    "def anotherFun(name=\"vinay\"):\n",
    "    print(\"This is Another Function\")\n",
    "    \n",
    "    #These are your sub functions\n",
    "    def aFun():\n",
    "        return \"\\t this is aFun\"\n",
    "        \n",
    "    def bFun():\n",
    "        return \"\\t this is bFun\"\n",
    "\n",
    "    #this is your if else statment to return any function based on the input\n",
    "    if name == \"vnay\":\n",
    "        return aFun\n",
    "    else:\n",
    "        return bFun\n",
    "        \n",
    "    print(\"Now you are back to Another Function\")"
   ]
  },
  {
   "cell_type": "code",
   "execution_count": 19,
   "metadata": {},
   "outputs": [
    {
     "name": "stdout",
     "output_type": "stream",
     "text": [
      "This is Another Function\n"
     ]
    }
   ],
   "source": [
    "yash = anotherFun()"
   ]
  },
  {
   "cell_type": "code",
   "execution_count": 21,
   "metadata": {},
   "outputs": [
    {
     "name": "stdout",
     "output_type": "stream",
     "text": [
      "\t this is bFun\n"
     ]
    }
   ],
   "source": [
    "print(yash())"
   ]
  },
  {
   "cell_type": "markdown",
   "metadata": {},
   "source": [
    "# Passing Functions as Aurgumnets to another Function"
   ]
  },
  {
   "cell_type": "code",
   "execution_count": 26,
   "metadata": {},
   "outputs": [],
   "source": [
    "def cibi():\n",
    "    return \"\\tHi this is CIBI, I am junior to Akash\"\n",
    "\n",
    "def akash(func):\n",
    "    print(\"I am Akash, I am senior to everyone\")\n",
    "    print(func())"
   ]
  },
  {
   "cell_type": "code",
   "execution_count": 27,
   "metadata": {},
   "outputs": [
    {
     "name": "stdout",
     "output_type": "stream",
     "text": [
      "I am Akash, I am senior to everyone\n",
      "\tHi this is CIBI, I am junior to Akash\n"
     ]
    }
   ],
   "source": [
    "akash(cibi)"
   ]
  },
  {
   "cell_type": "code",
   "execution_count": 28,
   "metadata": {},
   "outputs": [],
   "source": [
    "yash = akash"
   ]
  },
  {
   "cell_type": "code",
   "execution_count": 29,
   "metadata": {},
   "outputs": [],
   "source": [
    "vinay = cibi"
   ]
  },
  {
   "cell_type": "code",
   "execution_count": 30,
   "metadata": {},
   "outputs": [
    {
     "name": "stdout",
     "output_type": "stream",
     "text": [
      "I am Akash, I am senior to everyone\n",
      "\tHi this is CIBI, I am junior to Akash\n"
     ]
    }
   ],
   "source": [
    "yash(vinay)"
   ]
  },
  {
   "cell_type": "markdown",
   "metadata": {},
   "source": [
    "# Creating Decorators"
   ]
  },
  {
   "cell_type": "code",
   "execution_count": 12,
   "metadata": {},
   "outputs": [],
   "source": [
    "def new_decorator(func):\n",
    "    \n",
    "    def wrap_func():\n",
    "        print(\"Code would be here, before executing the fun\")\n",
    "        \n",
    " \n",
    "        \n",
    "        func()\n",
    "        \n",
    "        print(\"Code after the func is executed\")\n",
    "    \n",
    "    return wrap_func\n",
    "\n"
   ]
  },
  {
   "cell_type": "code",
   "execution_count": 6,
   "metadata": {},
   "outputs": [],
   "source": [
    "def func_needs_decorator():\n",
    "    print(\" I am the super important function who needs wraped from XYZ\")"
   ]
  },
  {
   "cell_type": "code",
   "execution_count": 7,
   "metadata": {},
   "outputs": [
    {
     "name": "stdout",
     "output_type": "stream",
     "text": [
      " I am the super important function who needs wraped from XYZ\n"
     ]
    }
   ],
   "source": [
    "func_needs_decorator()"
   ]
  },
  {
   "cell_type": "code",
   "execution_count": 8,
   "metadata": {},
   "outputs": [],
   "source": [
    "func_needs_decorator = new_decorator(func_needs_decorator)"
   ]
  },
  {
   "cell_type": "code",
   "execution_count": 9,
   "metadata": {
    "scrolled": true
   },
   "outputs": [
    {
     "name": "stdout",
     "output_type": "stream",
     "text": [
      "Code would be here, before executing the fun\n",
      " I am the super important function who needs wraped from XYZ\n",
      " I am the super important function who needs wraped from XYZ\n",
      "Code after the func is executed\n"
     ]
    }
   ],
   "source": [
    "func_needs_decorator()"
   ]
  },
  {
   "cell_type": "code",
   "execution_count": 13,
   "metadata": {},
   "outputs": [],
   "source": [
    "@new_decorator \n",
    "def func_needs_decorator():\n",
    "    print(\"This is the yash's super important method which needs to be wrapped\")"
   ]
  },
  {
   "cell_type": "code",
   "execution_count": 14,
   "metadata": {},
   "outputs": [
    {
     "name": "stdout",
     "output_type": "stream",
     "text": [
      "Code would be here, before executing the fun\n",
      "This is the yash's super important method which needs to be wrapped\n",
      "Code after the func is executed\n"
     ]
    }
   ],
   "source": [
    "func_needs_decorator()"
   ]
  },
  {
   "cell_type": "code",
   "execution_count": 16,
   "metadata": {},
   "outputs": [],
   "source": [
    "def elu_decorator(func):\n",
    "    \n",
    "    def wrap_func():\n",
    "        print(\"Elu will start protecting this code\")\n",
    "        \n",
    "        func()\n",
    "        \n",
    "        print(\"Elu will be protecting the code till here \")\n",
    "    \n",
    "    return wrap_func"
   ]
  },
  {
   "cell_type": "code",
   "execution_count": 17,
   "metadata": {},
   "outputs": [],
   "source": [
    "@elu_decorator\n",
    "def selvam():\n",
    "    print(\"I have something important which needs security\")"
   ]
  },
  {
   "cell_type": "code",
   "execution_count": 18,
   "metadata": {},
   "outputs": [
    {
     "name": "stdout",
     "output_type": "stream",
     "text": [
      "Elu will start protecting this code\n",
      "I have something important which needs security\n",
      "Elu will be protecting the code till here \n"
     ]
    }
   ],
   "source": [
    "selvam()"
   ]
  },
  {
   "cell_type": "code",
   "execution_count": 28,
   "metadata": {},
   "outputs": [],
   "source": [
    "def inputFun(func):\n",
    "    \n",
    "    def wrap_func():\n",
    "        no1 = int(input(\"Enter the first Number : \"))\n",
    "        no2 = int(input(\"Enter the first Number : \"))\n",
    "        ans = 0\n",
    "        \n",
    "        func(no1,no2)\n",
    "    \n",
    "    \n",
    "    return wrap_func"
   ]
  },
  {
   "cell_type": "code",
   "execution_count": 29,
   "metadata": {},
   "outputs": [],
   "source": [
    "@inputFun\n",
    "def addition(no1,no2):\n",
    "    ans = no1 + no2\n",
    "    print(\"the ans is : \",ans)"
   ]
  },
  {
   "cell_type": "code",
   "execution_count": 33,
   "metadata": {},
   "outputs": [
    {
     "name": "stdout",
     "output_type": "stream",
     "text": [
      "Enter the first Number : 1\n",
      "Enter the first Number : 2\n",
      "the ans is :  3\n"
     ]
    }
   ],
   "source": [
    "addition()"
   ]
  },
  {
   "cell_type": "code",
   "execution_count": 31,
   "metadata": {},
   "outputs": [],
   "source": [
    "@inputFun\n",
    "def sub(no1,no2):\n",
    "    ans = no1 - no2\n",
    "    print(\"the ans is : \",ans)"
   ]
  },
  {
   "cell_type": "code",
   "execution_count": 32,
   "metadata": {},
   "outputs": [
    {
     "name": "stdout",
     "output_type": "stream",
     "text": [
      "Enter the first Number : 1\n",
      "Enter the first Number : 2\n",
      "the ans is :  -1\n"
     ]
    }
   ],
   "source": [
    "sub()"
   ]
  },
  {
   "cell_type": "code",
   "execution_count": null,
   "metadata": {},
   "outputs": [],
   "source": []
  }
 ],
 "metadata": {
  "kernelspec": {
   "display_name": "Python 3",
   "language": "python",
   "name": "python3"
  },
  "language_info": {
   "codemirror_mode": {
    "name": "ipython",
    "version": 3
   },
   "file_extension": ".py",
   "mimetype": "text/x-python",
   "name": "python",
   "nbconvert_exporter": "python",
   "pygments_lexer": "ipython3",
   "version": "3.7.2"
  }
 },
 "nbformat": 4,
 "nbformat_minor": 2
}
