{
 "cells": [
  {
   "cell_type": "markdown",
   "metadata": {},
   "source": [
    "# try execpt"
   ]
  },
  {
   "cell_type": "code",
   "execution_count": 16,
   "metadata": {},
   "outputs": [
    {
     "name": "stdout",
     "output_type": "stream",
     "text": [
      "Content written successfully\n"
     ]
    }
   ],
   "source": [
    "try:\n",
    "    f = open('testfile.txt','w')\n",
    "    f.write('Test write')\n",
    "    \n",
    "except IOError:\n",
    "    print('Error : unable to find file')\n",
    "except : \n",
    "    print(\"Another kind of error\")\n",
    "else:\n",
    "    print('Content written successfully')"
   ]
  },
  {
   "cell_type": "code",
   "execution_count": 27,
   "metadata": {},
   "outputs": [
    {
     "name": "stdout",
     "output_type": "stream",
     "text": [
      "this is going in another block division by zero\n",
      "this will print always!\n"
     ]
    }
   ],
   "source": [
    "try:\n",
    "    f = open('testfile','w')\n",
    "    f.write('Akash is student of DSC')\n",
    "    f.close()\n",
    "    0/0\n",
    "    print('we are in try block')\n",
    "except IOError:\n",
    "        f = open('testfile','w')\n",
    "        f.write('Akash is student of DSC')\n",
    "        f.close()\n",
    "        print('we opened the file correctly')\n",
    "except Exception as e:\n",
    "    print('this is going in another block',e)\n",
    "finally:\n",
    "    print('this will print always!'),"
   ]
  },
  {
   "cell_type": "code",
   "execution_count": null,
   "metadata": {},
   "outputs": [],
   "source": []
  }
 ],
 "metadata": {
  "kernelspec": {
   "display_name": "Python 3",
   "language": "python",
   "name": "python3"
  },
  "language_info": {
   "codemirror_mode": {
    "name": "ipython",
    "version": 3
   },
   "file_extension": ".py",
   "mimetype": "text/x-python",
   "name": "python",
   "nbconvert_exporter": "python",
   "pygments_lexer": "ipython3",
   "version": "3.7.1"
  }
 },
 "nbformat": 4,
 "nbformat_minor": 2
}
