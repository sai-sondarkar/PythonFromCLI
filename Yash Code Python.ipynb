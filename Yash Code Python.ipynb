{
 "cells": [
  {
   "cell_type": "code",
   "execution_count": 1,
   "metadata": {},
   "outputs": [
    {
     "name": "stdout",
     "output_type": "stream",
     "text": [
      "yash\n",
      "yash\n",
      "yash\n",
      "yash\n",
      "yash\n"
     ]
    }
   ],
   "source": [
    "i=1;\n",
    "while i<=5:\n",
    "    print('yash');\n",
    "    i=i+1;"
   ]
  },
  {
   "cell_type": "code",
   "execution_count": 2,
   "metadata": {},
   "outputs": [],
   "source": [
    "i=1;\n",
    "while i<=5:\n",
    "    i=i+1;"
   ]
  },
  {
   "cell_type": "code",
   "execution_count": 3,
   "metadata": {},
   "outputs": [
    {
     "ename": "SyntaxError",
     "evalue": "unexpected EOF while parsing (<ipython-input-3-e9927fd6a67b>, line 3)",
     "output_type": "error",
     "traceback": [
      "\u001b[1;36m  File \u001b[1;32m\"<ipython-input-3-e9927fd6a67b>\"\u001b[1;36m, line \u001b[1;32m3\u001b[0m\n\u001b[1;33m    \u001b[0m\n\u001b[1;37m    ^\u001b[0m\n\u001b[1;31mSyntaxError\u001b[0m\u001b[1;31m:\u001b[0m unexpected EOF while parsing\n"
     ]
    }
   ],
   "source": [
    "i=1;\n",
    "while i<=5:\n",
    "    "
   ]
  },
  {
   "cell_type": "code",
   "execution_count": null,
   "metadata": {},
   "outputs": [],
   "source": []
  },
  {
   "cell_type": "code",
   "execution_count": null,
   "metadata": {},
   "outputs": [],
   "source": [
    "for i in range(1,100):\n",
    "    if i%3==0:\n",
    "        print('dog');\n",
    "    elif 5%i==0:\n",
    "        print('cat');\n",
    "    elif i%3 and i%5:\n",
    "        print('dogcat');\n",
    "    else:\n",
    "        print(i);"
   ]
  },
  {
   "cell_type": "code",
   "execution_count": 12,
   "metadata": {},
   "outputs": [
    {
     "name": "stdout",
     "output_type": "stream",
     "text": [
      "1\n",
      "2\n",
      "dog\n",
      "4\n",
      "cat\n",
      "dog\n",
      "7\n",
      "8\n",
      "dog\n",
      "cat\n",
      "11\n",
      "dog\n",
      "13\n",
      "14\n",
      "dogcat\n",
      "16\n",
      "17\n",
      "dog\n",
      "19\n",
      "cat\n",
      "dog\n",
      "22\n",
      "23\n",
      "dog\n",
      "cat\n",
      "26\n",
      "dog\n",
      "28\n",
      "29\n",
      "dogcat\n",
      "31\n",
      "32\n",
      "dog\n",
      "34\n",
      "cat\n",
      "dog\n",
      "37\n",
      "38\n",
      "dog\n",
      "cat\n",
      "41\n",
      "dog\n",
      "43\n",
      "44\n",
      "dogcat\n",
      "46\n",
      "47\n",
      "dog\n",
      "49\n",
      "cat\n",
      "dog\n",
      "52\n",
      "53\n",
      "dog\n",
      "cat\n",
      "56\n",
      "dog\n",
      "58\n",
      "59\n",
      "dogcat\n",
      "61\n",
      "62\n",
      "dog\n",
      "64\n",
      "cat\n",
      "dog\n",
      "67\n",
      "68\n",
      "dog\n",
      "cat\n",
      "71\n",
      "dog\n",
      "73\n",
      "74\n",
      "dogcat\n",
      "76\n",
      "77\n",
      "dog\n",
      "79\n",
      "cat\n",
      "dog\n",
      "82\n",
      "83\n",
      "dog\n",
      "cat\n",
      "86\n",
      "dog\n",
      "88\n",
      "89\n",
      "dogcat\n",
      "91\n",
      "92\n",
      "dog\n",
      "94\n",
      "cat\n",
      "dog\n",
      "97\n",
      "98\n",
      "dog\n"
     ]
    }
   ],
   "source": [
    "for i in range(1,100):\n",
    "    if i%3==0 and i%5==0:\n",
    "        print('dogcat')\n",
    "    elif i%3==0:\n",
    "        print('dog')\n",
    "    elif i%5==0:\n",
    "        print('cat')   \n",
    "    else:\n",
    "        print(i)"
   ]
  },
  {
   "cell_type": "code",
   "execution_count": null,
   "metadata": {},
   "outputs": [],
   "source": []
  }
 ],
 "metadata": {
  "kernelspec": {
   "display_name": "Python 3",
   "language": "python",
   "name": "python3"
  },
  "language_info": {
   "codemirror_mode": {
    "name": "ipython",
    "version": 3
   },
   "file_extension": ".py",
   "mimetype": "text/x-python",
   "name": "python",
   "nbconvert_exporter": "python",
   "pygments_lexer": "ipython3",
   "version": "3.7.2"
  }
 },
 "nbformat": 4,
 "nbformat_minor": 2
}
